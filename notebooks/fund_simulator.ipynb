{
  "nbformat": 4,
  "nbformat_minor": 0,
  "metadata": {
    "colab": {
      "provenance": []
    },
    "kernelspec": {
      "name": "python3",
      "display_name": "Python 3"
    },
    "language_info": {
      "name": "python"
    }
  },
  "cells": [
    {
      "cell_type": "markdown",
      "source": [
        "# Monte Carlo Fund Strategy Simulator\n",
        "\n",
        "This notebook aims to help fund managers evaluate different fund deployment strategies and look at the risks and rewards associated with each approach"
      ],
      "metadata": {
        "id": "aCa4ECMj4DBa"
      }
    },
    {
      "cell_type": "code",
      "execution_count": null,
      "metadata": {
        "id": "dE5__nTp4CQ6"
      },
      "outputs": [],
      "source": [
        "print(\"This is a sample notebook\")"
      ]
    }
  ]
}
