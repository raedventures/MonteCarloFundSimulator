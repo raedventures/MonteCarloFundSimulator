{
  "cells": [
    {
      "cell_type": "markdown",
      "metadata": {
        "id": "aCa4ECMj4DBa"
      },
      "source": [
        "# Monte Carlo Fund Strategy Simulator\n",
        "\n",
        "<a href=\"https://colab.research.google.com/github/raedventures/MonteCarloFundSimulator/blob/main/notebooks/fund_simulator.ipynb\"><img align=\"left\" src=\"https://colab.research.google.com/assets/colab-badge.svg\" alt=\"Open in Colab\" title=\"Open and Execute in Google Colaboratory\"></a>\n"
      ]
    },
    {
      "cell_type": "markdown",
      "source": [
        "This notebook aims to help fund managers evaluate different fund deployment strategies and look at the risks and rewards associated with each approach"
      ],
      "metadata": {
        "id": "AUljIV255Tvj"
      }
    },
    {
      "cell_type": "markdown",
      "metadata": {
        "id": "vdyl1OjZ-K5a"
      },
      "source": [
        "# Initial Setup\n",
        "Start by importing repo from github"
      ]
    },
    {
      "cell_type": "code",
      "execution_count": 3,
      "metadata": {
        "colab": {
          "base_uri": "https://localhost:8080/"
        },
        "id": "hlrJj7ft-Kjx",
        "outputId": "a9b450b8-7c8b-4b09-c8e1-6907e22a115f"
      },
      "outputs": [
        {
          "output_type": "stream",
          "name": "stdout",
          "text": [
            "Cloning into 'MonteCarloFundSimulator'...\n",
            "remote: Enumerating objects: 63, done.\u001b[K\n",
            "remote: Counting objects: 100% (63/63), done.\u001b[K\n",
            "remote: Compressing objects: 100% (44/44), done.\u001b[K\n",
            "remote: Total 63 (delta 20), reused 51 (delta 14), pack-reused 0\u001b[K\n",
            "Unpacking objects: 100% (63/63), done.\n",
            "repo clone completed\n"
          ]
        }
      ],
      "source": [
        "import os, sys\n",
        "\n",
        "user = \"raedventures\"\n",
        "repo = \"MonteCarloFundSimulator\"\n",
        "src_dir = \"src\"\n",
        "nb_dir = \"notebooks\"\n",
        "strat_dir = \"strategy\"\n",
        "\n",
        "if os.path.isdir(repo):\n",
        "    !rm -rf {repo}\n",
        "\n",
        "!git clone https://github.com/{user}/{repo}.git\n",
        "\n",
        "path = f\"{repo}\"\n",
        "if not path in sys.path:\n",
        "    sys.path.insert(1, f\"{repo}\")\n",
        "    sys.path.insert(1, f\"{repo}/{src_dir}\")\n",
        "    sys.path.insert(1, f\"{repo}/{nb_dir}\")\n",
        "    sys.path.insert(1, f\"{repo}/{src_dir}/{strat_dir}\")\n",
        "\n",
        "print(\"repo clone completed\")\n",
        "# list all directories in the Python path\n",
        "# print(\"\\n\".join([\"'\" + path + \"'\" for path in sys.path]))"
      ]
    },
    {
      "cell_type": "markdown",
      "metadata": {
        "id": "ryIJ0xTS-iki"
      },
      "source": [
        "# Run Simulation"
      ]
    },
    {
      "cell_type": "code",
      "execution_count": 5,
      "metadata": {
        "colab": {
          "base_uri": "https://localhost:8080/",
          "height": 326
        },
        "id": "UUZMmxYI-kC6",
        "outputId": "87f2b406-2b68-4de2-b31e-9e08fae0f0e2"
      },
      "outputs": [
        {
          "output_type": "stream",
          "name": "stdout",
          "text": [
            "Monte Carlo Fund Simulation # 10000 / 10000: |██████████████████████████████████████████████████| 100.00% \n",
            "\n"
          ]
        },
        {
          "output_type": "display_data",
          "data": {
            "text/plain": [
              "<Figure size 864x288 with 3 Axes>"
            ],
            "image/png": "[encoded data removed]"
          },
          "metadata": {
            "needs_background": "light"
          }
        }
      ],
      "source": [
        "from simulator_engine import runSimulation, plotStats\n",
        "from simple_prorata_strategy import SimpleProRataStrategy\n",
        "from plot_stats import plot_stats_notebook\n",
        "\n",
        "moics, tvpis, outcomes, [it, ft] = runSimulation(SimpleProRataStrategy(), 10000)\n",
        "\n",
        "# plot fund performance summary\n",
        "plot_stats_notebook(moics, tvpis, outcomes, [it, ft])"
      ]
    }
  ],
  "metadata": {
    "colab": {
      "provenance": []
    },
    "kernelspec": {
      "display_name": "Python 3",
      "name": "python3"
    },
    "language_info": {
      "name": "python"
    }
  },
  "nbformat": 4,
  "nbformat_minor": 0
}